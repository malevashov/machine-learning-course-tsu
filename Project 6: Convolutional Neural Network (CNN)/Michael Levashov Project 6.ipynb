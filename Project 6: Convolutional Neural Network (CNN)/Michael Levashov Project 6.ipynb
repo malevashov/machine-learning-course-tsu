{
 "cells": [
  {
   "cell_type": "markdown",
   "metadata": {
    "id": "VyBoRfFt1OFE"
   },
   "source": [
    "## **Multi-Class Text Classification for make-up products by using Neural Networks**\n",
    "\n",
    "In this project, we used Neural Network and Convolutional Neural Netwok to the text classification. In our analysis we used Keras framework. "
   ]
  },
  {
   "cell_type": "code",
   "execution_count": 1,
   "metadata": {
    "id": "KfS8veRQ3_qg"
   },
   "outputs": [],
   "source": [
    "import numpy as np\n",
    "import pandas as pd\n",
    "import matplotlib.pyplot as plt\n",
    "%matplotlib inline\n",
    "\n",
    "from sklearn.model_selection import train_test_split\n",
    "from sklearn.preprocessing import LabelBinarizer, LabelEncoder\n",
    "from sklearn.metrics import confusion_matrix\n",
    "\n",
    "import tensorflow as tf\n",
    "from tensorflow import keras\n",
    "from keras.models import Sequential\n",
    "from keras.layers import Dense, Flatten, Activation, Dropout, GlobalMaxPool1D, Conv1D\n",
    "from keras.layers.embeddings import Embedding\n",
    "from keras.preprocessing import text, sequence\n",
    "from keras.preprocessing.text import Tokenizer\n",
    "from keras.preprocessing.sequence import pad_sequences\n",
    "from keras import utils\n"
   ]
  },
  {
   "cell_type": "code",
   "execution_count": 2,
   "metadata": {
    "colab": {
     "base_uri": "https://localhost:8080/",
     "height": 204
    },
    "id": "FgbjCnBU80JM",
    "outputId": "909a18ea-d915-4486-87a5-ad02301f92fd"
   },
   "outputs": [
    {
     "data": {
      "text/html": [
       "<div>\n",
       "<style scoped>\n",
       "    .dataframe tbody tr th:only-of-type {\n",
       "        vertical-align: middle;\n",
       "    }\n",
       "\n",
       "    .dataframe tbody tr th {\n",
       "        vertical-align: top;\n",
       "    }\n",
       "\n",
       "    .dataframe thead th {\n",
       "        text-align: right;\n",
       "    }\n",
       "</style>\n",
       "<table border=\"1\" class=\"dataframe\">\n",
       "  <thead>\n",
       "    <tr style=\"text-align: right;\">\n",
       "      <th></th>\n",
       "      <th>drugName</th>\n",
       "      <th>condition</th>\n",
       "      <th>review</th>\n",
       "      <th>rating</th>\n",
       "      <th>date</th>\n",
       "      <th>usefulCount</th>\n",
       "    </tr>\n",
       "    <tr>\n",
       "      <th>uniqueID</th>\n",
       "      <th></th>\n",
       "      <th></th>\n",
       "      <th></th>\n",
       "      <th></th>\n",
       "      <th></th>\n",
       "      <th></th>\n",
       "    </tr>\n",
       "  </thead>\n",
       "  <tbody>\n",
       "    <tr>\n",
       "      <th>163740</th>\n",
       "      <td>Mirtazapine</td>\n",
       "      <td>Depression</td>\n",
       "      <td>\"I&amp;#039;ve tried a few antidepressants over th...</td>\n",
       "      <td>10</td>\n",
       "      <td>28-Feb-12</td>\n",
       "      <td>22</td>\n",
       "    </tr>\n",
       "    <tr>\n",
       "      <th>206473</th>\n",
       "      <td>Mesalamine</td>\n",
       "      <td>Crohn's Disease, Maintenance</td>\n",
       "      <td>\"My son has Crohn&amp;#039;s disease and has done ...</td>\n",
       "      <td>8</td>\n",
       "      <td>17-May-09</td>\n",
       "      <td>17</td>\n",
       "    </tr>\n",
       "    <tr>\n",
       "      <th>159672</th>\n",
       "      <td>Bactrim</td>\n",
       "      <td>Urinary Tract Infection</td>\n",
       "      <td>\"Quick reduction of symptoms\"</td>\n",
       "      <td>9</td>\n",
       "      <td>29-Sep-17</td>\n",
       "      <td>3</td>\n",
       "    </tr>\n",
       "    <tr>\n",
       "      <th>39293</th>\n",
       "      <td>Contrave</td>\n",
       "      <td>Weight Loss</td>\n",
       "      <td>\"Contrave combines drugs that were used for al...</td>\n",
       "      <td>9</td>\n",
       "      <td>5-Mar-17</td>\n",
       "      <td>35</td>\n",
       "    </tr>\n",
       "    <tr>\n",
       "      <th>97768</th>\n",
       "      <td>Cyclafem 1 / 35</td>\n",
       "      <td>Birth Control</td>\n",
       "      <td>\"I have been on this birth control for one cyc...</td>\n",
       "      <td>9</td>\n",
       "      <td>22-Oct-15</td>\n",
       "      <td>4</td>\n",
       "    </tr>\n",
       "  </tbody>\n",
       "</table>\n",
       "</div>"
      ],
      "text/plain": [
       "                 drugName                     condition  \\\n",
       "uniqueID                                                  \n",
       "163740        Mirtazapine                    Depression   \n",
       "206473         Mesalamine  Crohn's Disease, Maintenance   \n",
       "159672            Bactrim       Urinary Tract Infection   \n",
       "39293            Contrave                   Weight Loss   \n",
       "97768     Cyclafem 1 / 35                 Birth Control   \n",
       "\n",
       "                                                     review  rating  \\\n",
       "uniqueID                                                              \n",
       "163740    \"I&#039;ve tried a few antidepressants over th...      10   \n",
       "206473    \"My son has Crohn&#039;s disease and has done ...       8   \n",
       "159672                        \"Quick reduction of symptoms\"       9   \n",
       "39293     \"Contrave combines drugs that were used for al...       9   \n",
       "97768     \"I have been on this birth control for one cyc...       9   \n",
       "\n",
       "               date  usefulCount  \n",
       "uniqueID                          \n",
       "163740    28-Feb-12           22  \n",
       "206473    17-May-09           17  \n",
       "159672    29-Sep-17            3  \n",
       "39293      5-Mar-17           35  \n",
       "97768     22-Oct-15            4  "
      ]
     },
     "execution_count": 2,
     "metadata": {},
     "output_type": "execute_result"
    }
   ],
   "source": [
    "df = pd.read_csv('data/drugsComTest_raw.csv', header=0,index_col=0)\n",
    "df.head()"
   ]
  },
  {
   "cell_type": "code",
   "execution_count": 3,
   "metadata": {},
   "outputs": [],
   "source": [
    "df.drop(['date','usefulCount'], axis=1, inplace=True)"
   ]
  },
  {
   "cell_type": "code",
   "execution_count": 4,
   "metadata": {},
   "outputs": [],
   "source": [
    "df=df.reset_index(drop=True)"
   ]
  },
  {
   "cell_type": "code",
   "execution_count": 5,
   "metadata": {},
   "outputs": [
    {
     "data": {
      "text/html": [
       "<div>\n",
       "<style scoped>\n",
       "    .dataframe tbody tr th:only-of-type {\n",
       "        vertical-align: middle;\n",
       "    }\n",
       "\n",
       "    .dataframe tbody tr th {\n",
       "        vertical-align: top;\n",
       "    }\n",
       "\n",
       "    .dataframe thead th {\n",
       "        text-align: right;\n",
       "    }\n",
       "</style>\n",
       "<table border=\"1\" class=\"dataframe\">\n",
       "  <thead>\n",
       "    <tr style=\"text-align: right;\">\n",
       "      <th></th>\n",
       "      <th>drugName</th>\n",
       "      <th>condition</th>\n",
       "      <th>review</th>\n",
       "      <th>rating</th>\n",
       "    </tr>\n",
       "  </thead>\n",
       "  <tbody>\n",
       "    <tr>\n",
       "      <th>0</th>\n",
       "      <td>Mirtazapine</td>\n",
       "      <td>Depression</td>\n",
       "      <td>\"I&amp;#039;ve tried a few antidepressants over th...</td>\n",
       "      <td>10</td>\n",
       "    </tr>\n",
       "    <tr>\n",
       "      <th>1</th>\n",
       "      <td>Mesalamine</td>\n",
       "      <td>Crohn's Disease, Maintenance</td>\n",
       "      <td>\"My son has Crohn&amp;#039;s disease and has done ...</td>\n",
       "      <td>8</td>\n",
       "    </tr>\n",
       "    <tr>\n",
       "      <th>2</th>\n",
       "      <td>Bactrim</td>\n",
       "      <td>Urinary Tract Infection</td>\n",
       "      <td>\"Quick reduction of symptoms\"</td>\n",
       "      <td>9</td>\n",
       "    </tr>\n",
       "    <tr>\n",
       "      <th>3</th>\n",
       "      <td>Contrave</td>\n",
       "      <td>Weight Loss</td>\n",
       "      <td>\"Contrave combines drugs that were used for al...</td>\n",
       "      <td>9</td>\n",
       "    </tr>\n",
       "    <tr>\n",
       "      <th>4</th>\n",
       "      <td>Cyclafem 1 / 35</td>\n",
       "      <td>Birth Control</td>\n",
       "      <td>\"I have been on this birth control for one cyc...</td>\n",
       "      <td>9</td>\n",
       "    </tr>\n",
       "  </tbody>\n",
       "</table>\n",
       "</div>"
      ],
      "text/plain": [
       "          drugName                     condition  \\\n",
       "0      Mirtazapine                    Depression   \n",
       "1       Mesalamine  Crohn's Disease, Maintenance   \n",
       "2          Bactrim       Urinary Tract Infection   \n",
       "3         Contrave                   Weight Loss   \n",
       "4  Cyclafem 1 / 35                 Birth Control   \n",
       "\n",
       "                                              review  rating  \n",
       "0  \"I&#039;ve tried a few antidepressants over th...      10  \n",
       "1  \"My son has Crohn&#039;s disease and has done ...       8  \n",
       "2                      \"Quick reduction of symptoms\"       9  \n",
       "3  \"Contrave combines drugs that were used for al...       9  \n",
       "4  \"I have been on this birth control for one cyc...       9  "
      ]
     },
     "execution_count": 5,
     "metadata": {},
     "output_type": "execute_result"
    }
   ],
   "source": [
    "df.head()"
   ]
  },
  {
   "cell_type": "code",
   "execution_count": 6,
   "metadata": {},
   "outputs": [
    {
     "data": {
      "text/html": [
       "<div>\n",
       "<style scoped>\n",
       "    .dataframe tbody tr th:only-of-type {\n",
       "        vertical-align: middle;\n",
       "    }\n",
       "\n",
       "    .dataframe tbody tr th {\n",
       "        vertical-align: top;\n",
       "    }\n",
       "\n",
       "    .dataframe thead th {\n",
       "        text-align: right;\n",
       "    }\n",
       "</style>\n",
       "<table border=\"1\" class=\"dataframe\">\n",
       "  <thead>\n",
       "    <tr style=\"text-align: right;\">\n",
       "      <th></th>\n",
       "      <th>drugName</th>\n",
       "      <th>condition</th>\n",
       "      <th>review</th>\n",
       "      <th>rating</th>\n",
       "    </tr>\n",
       "  </thead>\n",
       "  <tbody>\n",
       "    <tr>\n",
       "      <th>53761</th>\n",
       "      <td>Tamoxifen</td>\n",
       "      <td>Breast Cancer, Prevention</td>\n",
       "      <td>\"I have taken Tamoxifen for 5 years. Side effe...</td>\n",
       "      <td>10</td>\n",
       "    </tr>\n",
       "    <tr>\n",
       "      <th>53762</th>\n",
       "      <td>Escitalopram</td>\n",
       "      <td>Anxiety</td>\n",
       "      <td>\"I&amp;#039;ve been taking Lexapro (escitaploprgra...</td>\n",
       "      <td>9</td>\n",
       "    </tr>\n",
       "    <tr>\n",
       "      <th>53763</th>\n",
       "      <td>Levonorgestrel</td>\n",
       "      <td>Birth Control</td>\n",
       "      <td>\"I&amp;#039;m married, 34 years old and I have no ...</td>\n",
       "      <td>8</td>\n",
       "    </tr>\n",
       "    <tr>\n",
       "      <th>53764</th>\n",
       "      <td>Tapentadol</td>\n",
       "      <td>Pain</td>\n",
       "      <td>\"I was prescribed Nucynta for severe neck/shou...</td>\n",
       "      <td>1</td>\n",
       "    </tr>\n",
       "    <tr>\n",
       "      <th>53765</th>\n",
       "      <td>Arthrotec</td>\n",
       "      <td>Sciatica</td>\n",
       "      <td>\"It works!!!\"</td>\n",
       "      <td>9</td>\n",
       "    </tr>\n",
       "  </tbody>\n",
       "</table>\n",
       "</div>"
      ],
      "text/plain": [
       "             drugName                  condition  \\\n",
       "53761       Tamoxifen  Breast Cancer, Prevention   \n",
       "53762    Escitalopram                    Anxiety   \n",
       "53763  Levonorgestrel              Birth Control   \n",
       "53764      Tapentadol                       Pain   \n",
       "53765       Arthrotec                   Sciatica   \n",
       "\n",
       "                                                  review  rating  \n",
       "53761  \"I have taken Tamoxifen for 5 years. Side effe...      10  \n",
       "53762  \"I&#039;ve been taking Lexapro (escitaploprgra...       9  \n",
       "53763  \"I&#039;m married, 34 years old and I have no ...       8  \n",
       "53764  \"I was prescribed Nucynta for severe neck/shou...       1  \n",
       "53765                                      \"It works!!!\"       9  "
      ]
     },
     "execution_count": 6,
     "metadata": {},
     "output_type": "execute_result"
    }
   ],
   "source": [
    "df.tail()"
   ]
  },
  {
   "cell_type": "code",
   "execution_count": 7,
   "metadata": {
    "colab": {
     "base_uri": "https://localhost:8080/",
     "height": 34
    },
    "id": "dzNQio4V80EN",
    "outputId": "f6ce7ddc-fdde-4767-fc0a-0c77f9474fc7"
   },
   "outputs": [
    {
     "data": {
      "text/plain": [
       "(53766, 4)"
      ]
     },
     "execution_count": 7,
     "metadata": {},
     "output_type": "execute_result"
    }
   ],
   "source": [
    "df.shape"
   ]
  },
  {
   "cell_type": "markdown",
   "metadata": {},
   "source": [
    "# Make data smaller"
   ]
  },
  {
   "cell_type": "code",
   "execution_count": 8,
   "metadata": {},
   "outputs": [],
   "source": [
    "df = df[df.groupby('drugName')['drugName'].transform('size') > 20]"
   ]
  },
  {
   "cell_type": "code",
   "execution_count": 9,
   "metadata": {},
   "outputs": [],
   "source": [
    "df = df.head(5000)"
   ]
  },
  {
   "cell_type": "code",
   "execution_count": 10,
   "metadata": {},
   "outputs": [
    {
     "data": {
      "text/plain": [
       "(5000, 4)"
      ]
     },
     "execution_count": 10,
     "metadata": {},
     "output_type": "execute_result"
    }
   ],
   "source": [
    "df.shape"
   ]
  },
  {
   "cell_type": "markdown",
   "metadata": {},
   "source": [
    "# Preprocessing"
   ]
  },
  {
   "cell_type": "code",
   "execution_count": 11,
   "metadata": {},
   "outputs": [
    {
     "name": "stdout",
     "output_type": "stream",
     "text": [
      "the review column data types is: object\n"
     ]
    }
   ],
   "source": [
    "print('the review column data types is:',df['review'].dtypes)\n",
    "df['review'] = df['review'].astype(str)"
   ]
  },
  {
   "cell_type": "markdown",
   "metadata": {},
   "source": [
    "# Converting to lowerCase"
   ]
  },
  {
   "cell_type": "code",
   "execution_count": 12,
   "metadata": {},
   "outputs": [
    {
     "data": {
      "text/plain": [
       "0    \"i&#039;ve tried a few antidepressants over th...\n",
       "1    \"my son has crohn&#039;s disease and has done ...\n",
       "2                        \"quick reduction of symptoms\"\n",
       "3    \"contrave combines drugs that were used for al...\n",
       "6    \"i&#039;ve had the copper coil for about 3 mon...\n",
       "Name: review1, dtype: object"
      ]
     },
     "execution_count": 12,
     "metadata": {},
     "output_type": "execute_result"
    }
   ],
   "source": [
    "df['review1'] = df['review'].apply(lambda x: \" \".join(x.lower() for x in x.split()))\n",
    "df['review1'].head()"
   ]
  },
  {
   "cell_type": "markdown",
   "metadata": {},
   "source": [
    "# Removing Punctuations"
   ]
  },
  {
   "cell_type": "code",
   "execution_count": 13,
   "metadata": {},
   "outputs": [
    {
     "name": "stderr",
     "output_type": "stream",
     "text": [
      "C:\\Users\\Michael\\AppData\\Local\\Temp\\ipykernel_12940\\2184321559.py:1: FutureWarning: The default value of regex will change from True to False in a future version.\n",
      "  df['review1'] = df['review1'].str.replace('[^\\w\\s]', '')\n"
     ]
    },
    {
     "data": {
      "text/plain": [
       "0    i039ve tried a few antidepressants over the ye...\n",
       "1    my son has crohn039s disease and has done very...\n",
       "2                          quick reduction of symptoms\n",
       "3    contrave combines drugs that were used for alc...\n",
       "6    i039ve had the copper coil for about 3 months ...\n",
       "Name: review1, dtype: object"
      ]
     },
     "execution_count": 13,
     "metadata": {},
     "output_type": "execute_result"
    }
   ],
   "source": [
    "df['review1'] = df['review1'].str.replace('[^\\w\\s]', '')\n",
    "df['review1'].head()"
   ]
  },
  {
   "cell_type": "markdown",
   "metadata": {},
   "source": [
    "# Removing StopWords"
   ]
  },
  {
   "cell_type": "code",
   "execution_count": 14,
   "metadata": {},
   "outputs": [
    {
     "name": "stderr",
     "output_type": "stream",
     "text": [
      "[nltk_data] Downloading package stopwords to\n",
      "[nltk_data]     C:\\Users\\Michael\\AppData\\Roaming\\nltk_data...\n",
      "[nltk_data]   Package stopwords is already up-to-date!\n"
     ]
    }
   ],
   "source": [
    "import nltk\n",
    "nltk.download('stopwords')\n",
    "from nltk.corpus import stopwords\n",
    "stop = stopwords.words('english')"
   ]
  },
  {
   "cell_type": "code",
   "execution_count": 15,
   "metadata": {},
   "outputs": [
    {
     "data": {
      "text/plain": [
       "0    i039ve tried antidepressants years citalopram ...\n",
       "1    son crohn039s disease done well asacol complai...\n",
       "2                             quick reduction symptoms\n",
       "3    contrave combines drugs used alcohol smoking o...\n",
       "6    i039ve copper coil 3 months really excited tho...\n",
       "Name: review1, dtype: object"
      ]
     },
     "execution_count": 15,
     "metadata": {},
     "output_type": "execute_result"
    }
   ],
   "source": [
    "df['review1'] = df['review1'].apply(lambda x: \" \".join(x for x in x.split() if x not in stop))\n",
    "df['review1'].head()"
   ]
  },
  {
   "cell_type": "markdown",
   "metadata": {},
   "source": [
    "# Remove the Rare Words"
   ]
  },
  {
   "cell_type": "code",
   "execution_count": 16,
   "metadata": {},
   "outputs": [
    {
     "data": {
      "text/plain": [
       "['ez',\n",
       " 'quothappyquot',\n",
       " '272017',\n",
       " 'orthopedic',\n",
       " 'workand',\n",
       " 'easygoing',\n",
       " 'mopey',\n",
       " 'schitzoaffective',\n",
       " 'anymoretook',\n",
       " 'everysinglepound',\n",
       " 'anythingwake',\n",
       " 'greedy',\n",
       " 'cab',\n",
       " 'combos',\n",
       " 'relented',\n",
       " 'smother',\n",
       " 'machines',\n",
       " 'shopping',\n",
       " 'enlargement',\n",
       " '0318',\n",
       " 'cabinet',\n",
       " 'norovirus',\n",
       " 'obstructionconstipation',\n",
       " 'walgreen039s',\n",
       " 'daunting',\n",
       " 'narrowed',\n",
       " 'awakehave',\n",
       " 'fanny',\n",
       " 'charged',\n",
       " 'radiotheraphy',\n",
       " 'justification',\n",
       " 'asapi',\n",
       " 'releiver',\n",
       " 'driven',\n",
       " 'gsk',\n",
       " 'demon',\n",
       " 'diziness',\n",
       " 'nibbles',\n",
       " 'hoursthe',\n",
       " '0317',\n",
       " 'lnew',\n",
       " 'depersonlization',\n",
       " '090815',\n",
       " 'gurgle',\n",
       " 'passengers',\n",
       " 'femcon',\n",
       " '1m',\n",
       " 'spottedbled',\n",
       " 'gasx',\n",
       " 'researchers',\n",
       " '4300',\n",
       " 'embryo',\n",
       " 'aloha',\n",
       " 'pimply',\n",
       " '111215',\n",
       " 'positioned',\n",
       " 'effectscrampingdiarrhea',\n",
       " '325',\n",
       " 'effectshe',\n",
       " 'organizing',\n",
       " 'derealization',\n",
       " 'enjoyso',\n",
       " '1011',\n",
       " 'victory',\n",
       " 'bang',\n",
       " 'redish',\n",
       " 'quotclean',\n",
       " 'forgo',\n",
       " 'finest',\n",
       " 'skinmy',\n",
       " 'tracker',\n",
       " 'clamps',\n",
       " 'effectsmostly',\n",
       " 'virusfree',\n",
       " 'quotstickquot',\n",
       " 'groggydrugged',\n",
       " 'dialator',\n",
       " 'si',\n",
       " 'disapear',\n",
       " 'externally',\n",
       " '7500',\n",
       " 'infeccion',\n",
       " 'yearround',\n",
       " 'practitionerquot',\n",
       " 'heavenly',\n",
       " 'iu2019m',\n",
       " 'quotlow',\n",
       " 'quotoff',\n",
       " 'shattering',\n",
       " 'da039s',\n",
       " 'inflicted',\n",
       " 'bodily',\n",
       " 'sidelined',\n",
       " 'dept',\n",
       " '4weeks',\n",
       " 'offspent',\n",
       " 'dosequot',\n",
       " 'triptan',\n",
       " 'vigilant',\n",
       " 'reoccurrence',\n",
       " 'neausea',\n",
       " 'nervousexcited',\n",
       " 'clomipramine',\n",
       " 'yeti039m',\n",
       " '5vials',\n",
       " 'acknowledgement',\n",
       " 'lornya',\n",
       " 'anymoregoogle',\n",
       " 'mh',\n",
       " 'topsmax',\n",
       " 'it039',\n",
       " 'electrical',\n",
       " 'harmpain',\n",
       " 'efficient',\n",
       " 'bravo',\n",
       " 'agozolpidem',\n",
       " 'poisoning',\n",
       " 'wobbly',\n",
       " 'ipbroprohen',\n",
       " 'honor',\n",
       " 'belsombra',\n",
       " 'diseases',\n",
       " 'quotnurse',\n",
       " 'foreseen',\n",
       " 'hiccups',\n",
       " 'esterin',\n",
       " 'interferon',\n",
       " 'toned',\n",
       " 'perday',\n",
       " 'magazines',\n",
       " '32c',\n",
       " 'agonists',\n",
       " 'econtra',\n",
       " 'lube',\n",
       " 'nightmaresfinally',\n",
       " 'p',\n",
       " 'onestep',\n",
       " 'hypochondriac',\n",
       " 'forego',\n",
       " 'reconsider',\n",
       " 'labels',\n",
       " '32a',\n",
       " 'godddddd',\n",
       " '8800',\n",
       " '9pds',\n",
       " '16ounces',\n",
       " 'humour',\n",
       " 'levocetirizine',\n",
       " 'majors',\n",
       " 'others039',\n",
       " 'academically',\n",
       " 'storm',\n",
       " 'cycleit',\n",
       " 'ptsdcptsd',\n",
       " 'laziness',\n",
       " 'lifei',\n",
       " 'quietens',\n",
       " 'advisable',\n",
       " 'depressiveobsessive',\n",
       " 'substances',\n",
       " 'disfunction',\n",
       " 'brownies',\n",
       " 'compliance',\n",
       " 'residual',\n",
       " 'difficultunpleasant',\n",
       " 'sustena',\n",
       " 'possibilities',\n",
       " 'whiskey',\n",
       " '15120',\n",
       " 'percocetit',\n",
       " 'pennythanks',\n",
       " 'ish',\n",
       " 'mutants',\n",
       " 'yearsmiddot',\n",
       " 'xmen',\n",
       " 'cookie',\n",
       " 'sakes',\n",
       " 'hotflash',\n",
       " 'visions',\n",
       " 'casei',\n",
       " 'conflicts',\n",
       " 'quotcalifornia',\n",
       " 'fuelquot',\n",
       " 'stabilizes',\n",
       " 'oregano',\n",
       " 'anxietyflashbacksdepression',\n",
       " 'suseptable',\n",
       " 'diabeties',\n",
       " 'criminally',\n",
       " 'permeant',\n",
       " '745am',\n",
       " 'bioidentical',\n",
       " 'tapper',\n",
       " 'serozone',\n",
       " 'flashesquot',\n",
       " 'quothot',\n",
       " 'cue',\n",
       " 'sertaline',\n",
       " 'unjustified',\n",
       " 'blip',\n",
       " 'stripped',\n",
       " '77',\n",
       " 'handsome',\n",
       " 'prefect',\n",
       " 'lawquot',\n",
       " 'recanted',\n",
       " 'armouor',\n",
       " 'beginnings',\n",
       " 'krogers',\n",
       " 'panties',\n",
       " 'seroquelquetiapine',\n",
       " 'meansbut',\n",
       " '039zombie039',\n",
       " 'rememberable',\n",
       " 'angered',\n",
       " '2625',\n",
       " 'infamous',\n",
       " 'stupidity',\n",
       " 'obamacare',\n",
       " 'peoplei',\n",
       " 'agrees',\n",
       " 'roofhate',\n",
       " 'quotsure',\n",
       " 'worsemore',\n",
       " 'quotget',\n",
       " '108mg',\n",
       " 'overthecounter',\n",
       " 'quotfluoroquinolone',\n",
       " 'dude',\n",
       " 'skinned',\n",
       " 'restricts',\n",
       " 'games',\n",
       " 'latitudes',\n",
       " 'cancannot',\n",
       " 'spondylosis',\n",
       " 'hook',\n",
       " 'toxicityquot',\n",
       " 'mtdna',\n",
       " 'offquot',\n",
       " 'destroys',\n",
       " 'crepitus',\n",
       " 'tendonosis',\n",
       " 'hypo',\n",
       " 'thriving',\n",
       " 'searing',\n",
       " 'household',\n",
       " 'quotwear',\n",
       " 'spanish',\n",
       " 'fixes',\n",
       " 'iu',\n",
       " '8000',\n",
       " 'heighest',\n",
       " 'hypersensitivity',\n",
       " 'getgo',\n",
       " 'punching',\n",
       " 'hundred',\n",
       " 'practioner',\n",
       " 'nil',\n",
       " '3000000',\n",
       " 'scariest',\n",
       " 'atattack',\n",
       " 'views',\n",
       " 'hysterics',\n",
       " 'socializing',\n",
       " 'merry',\n",
       " 'careless',\n",
       " 'agoshe',\n",
       " 'jealousy',\n",
       " 'sa',\n",
       " '28yearold',\n",
       " 'fridaysunday',\n",
       " 'harry',\n",
       " 'problemsdiscovering',\n",
       " 'controlsome',\n",
       " 'swinging',\n",
       " '180lbs',\n",
       " 'shoulderarm',\n",
       " 'operative',\n",
       " 'chillsshaking',\n",
       " 'weekes',\n",
       " 'thisunprotected',\n",
       " 'quotpopsquot',\n",
       " 'miscarried',\n",
       " 'border',\n",
       " '240',\n",
       " 'chantixthe',\n",
       " 'alienate',\n",
       " 'restlessnes',\n",
       " 'instinct',\n",
       " 'daysand',\n",
       " 'thrashing',\n",
       " 'antsy',\n",
       " 'metroclopramide',\n",
       " 'veterans',\n",
       " 'apex',\n",
       " 'benefts',\n",
       " 'dumber',\n",
       " 'squared',\n",
       " 'micro',\n",
       " '16yr',\n",
       " 'nutrients',\n",
       " 'celiac039s',\n",
       " 'resided',\n",
       " 'modify',\n",
       " 'levaquan',\n",
       " 'sleepliness',\n",
       " 'untreated',\n",
       " 'zydis',\n",
       " 'yellowing',\n",
       " 'struggles',\n",
       " 'vit',\n",
       " 'switchesquot',\n",
       " 'transit',\n",
       " 'rival',\n",
       " 'jesus',\n",
       " 'monistat1day',\n",
       " 'quotmood',\n",
       " '8845pm',\n",
       " 'multivitamin',\n",
       " 'elbowtendonitis',\n",
       " 'days750',\n",
       " 'dabs',\n",
       " 'zubsolve',\n",
       " 'perc',\n",
       " 'carousel',\n",
       " 'aggravating',\n",
       " 'dailytwice',\n",
       " 'mildsevere',\n",
       " 'attest',\n",
       " 'posters',\n",
       " 'dermatologist039s',\n",
       " 'disappeari',\n",
       " 'pillsday',\n",
       " 'monstrous',\n",
       " 'physicals',\n",
       " 'wellnot',\n",
       " 'mds',\n",
       " 'looming',\n",
       " 'worsens',\n",
       " 'advilday',\n",
       " 'inositol',\n",
       " 'migrated',\n",
       " 'grad',\n",
       " 'foreheadback',\n",
       " 'phentemine',\n",
       " 'repercussions',\n",
       " '247lbs',\n",
       " '2685',\n",
       " 'oxytetracycline',\n",
       " 'enthromycin',\n",
       " 'flaked',\n",
       " 'resembled',\n",
       " 'byopsy',\n",
       " 'hestitate',\n",
       " 'wimptwo',\n",
       " 'gasy',\n",
       " 'detroit',\n",
       " 'e45',\n",
       " '103',\n",
       " '04072016',\n",
       " 'burts',\n",
       " 'bees',\n",
       " 'iigot',\n",
       " 'deficit',\n",
       " 'bebiggest',\n",
       " 'qui',\n",
       " 'brains',\n",
       " 'trusty',\n",
       " 'accuntane',\n",
       " 'fragile',\n",
       " 'spurts',\n",
       " 'daysspotted',\n",
       " 'reabsorption',\n",
       " 'rejecting',\n",
       " 'nexplenon',\n",
       " 'cave',\n",
       " 'hosp',\n",
       " 'brill',\n",
       " 'flicked',\n",
       " 'zeldox',\n",
       " 'specialists',\n",
       " 'sparkling',\n",
       " 'jitteryshaky',\n",
       " 'crampsspotting',\n",
       " 'diemy',\n",
       " 'steamed',\n",
       " 'broiled',\n",
       " 'cardboard',\n",
       " '260285',\n",
       " '120180',\n",
       " 'bmi',\n",
       " 'osteodegenerative',\n",
       " '06082015',\n",
       " 'significantlywhen',\n",
       " 'addressed',\n",
       " 'iq',\n",
       " 'thag',\n",
       " 'pshyciatrist',\n",
       " 'findings',\n",
       " 'perked',\n",
       " 'cortizone',\n",
       " 'vestibular',\n",
       " 'delay',\n",
       " 'threewheeled',\n",
       " 'pseudodemented',\n",
       " 'substantiallya',\n",
       " 'wersquoll',\n",
       " 'cryinmycaratwork',\n",
       " 'mecfs',\n",
       " 'depressedanxioussad',\n",
       " 'immunecompromised',\n",
       " 'quotbestquot',\n",
       " 'separates',\n",
       " 'automatically',\n",
       " 'attraction',\n",
       " 'serquel',\n",
       " 'cyclafem',\n",
       " 'interests',\n",
       " 'reverse',\n",
       " 'depress',\n",
       " 'chaos',\n",
       " 'manageableit',\n",
       " 'toiletoff',\n",
       " 'nitrofurantonin',\n",
       " 'grieving',\n",
       " 'gads',\n",
       " 'notable',\n",
       " 'scrunching',\n",
       " 'input',\n",
       " 'appreciated',\n",
       " 'feverquot',\n",
       " 'two039s',\n",
       " 'nytol',\n",
       " 'properties',\n",
       " '1416',\n",
       " 'revert',\n",
       " 'evils',\n",
       " 'sonicboom',\n",
       " 'nyquil',\n",
       " 'quothay',\n",
       " 'wahls',\n",
       " 'wsupplements',\n",
       " 'preinsurance',\n",
       " '271',\n",
       " 'firsti',\n",
       " 'pact',\n",
       " 'incorporated',\n",
       " 'vinegarit',\n",
       " 'swig',\n",
       " 'whopping',\n",
       " '246',\n",
       " 'curl',\n",
       " 'reminding',\n",
       " 'expertise',\n",
       " 'haunted',\n",
       " 'effectivewhybecause',\n",
       " 'ethinyl',\n",
       " 'drospirenone',\n",
       " 'reveal',\n",
       " 'literately',\n",
       " 'idu',\n",
       " 'rip',\n",
       " 'undergoing',\n",
       " 'nonodt',\n",
       " 'slayed',\n",
       " 'aggressively',\n",
       " 'odt',\n",
       " 'drawing',\n",
       " '269lbs',\n",
       " 'printed',\n",
       " 'newborn',\n",
       " '7days',\n",
       " 'lerks',\n",
       " 'moderationsmotivation',\n",
       " 'seriouslygreedy',\n",
       " 'justify',\n",
       " '300mo',\n",
       " 'romance',\n",
       " 'sh',\n",
       " 'foodbased',\n",
       " '793',\n",
       " 'sack',\n",
       " 'superman',\n",
       " 'engaging',\n",
       " 'goodtoo',\n",
       " 'tricare',\n",
       " 'hypoglycemic',\n",
       " '772',\n",
       " 'seriois',\n",
       " 'amd',\n",
       " 'treatmentalthough',\n",
       " 'lithicarb',\n",
       " 'youmy',\n",
       " 'agression',\n",
       " 'incontinent',\n",
       " 'throatcough',\n",
       " 'irritablebut',\n",
       " 'companion',\n",
       " '2436',\n",
       " 'maniahence',\n",
       " 'calcification',\n",
       " 'fiend',\n",
       " 'dan039s',\n",
       " 'nocturnal',\n",
       " 'dialed',\n",
       " 'depotest',\n",
       " 'plumbing',\n",
       " 'syringes',\n",
       " 'wahl039s',\n",
       " 'withdraws',\n",
       " 'suboxonesubutex',\n",
       " 'douched',\n",
       " 'iswho',\n",
       " 'cortibalm',\n",
       " 'vistiril',\n",
       " 'vessel',\n",
       " 'noticingquestioning',\n",
       " 'yak',\n",
       " 'miricle',\n",
       " 'possiblility',\n",
       " '62117',\n",
       " 'antifungal',\n",
       " 'hesitation',\n",
       " 'smash',\n",
       " 'loestron',\n",
       " 'iti',\n",
       " 'chapstick',\n",
       " 'theyrsquore',\n",
       " 'nowi039m',\n",
       " 'bruisingnothing',\n",
       " '22015',\n",
       " 'tecfidera',\n",
       " 'acnemost',\n",
       " 'tcells',\n",
       " 'hypothermia',\n",
       " 'mammogram',\n",
       " 'intensify',\n",
       " 'toss',\n",
       " 'cubes',\n",
       " 'ratio',\n",
       " 'leflunomide',\n",
       " 'dysmophic',\n",
       " '7m',\n",
       " 'hampered',\n",
       " 'swapped',\n",
       " 'headachy',\n",
       " 'combinationlove',\n",
       " 'aspirated',\n",
       " 'pulsing',\n",
       " 'sudicidal',\n",
       " 'csf',\n",
       " 'painwithin',\n",
       " 'tarlov',\n",
       " 'innumerable',\n",
       " 'arachnoiditis',\n",
       " 'slowmotion',\n",
       " 'recipe',\n",
       " 'immodium',\n",
       " 'welchol',\n",
       " 'eatingsmoking',\n",
       " 'snake',\n",
       " 'slough',\n",
       " 'disturbances',\n",
       " '10d',\n",
       " '31lbs',\n",
       " 'insight',\n",
       " 'reassured',\n",
       " 'ebv',\n",
       " 'experiencesglad',\n",
       " '12001300',\n",
       " 'stunned',\n",
       " 'rightquot',\n",
       " 'quotyeah',\n",
       " 'disconnectiondissociationdepersonalization',\n",
       " 'angerrage',\n",
       " '039039numbness039039',\n",
       " 'dissapeared',\n",
       " 'slamming',\n",
       " '229lbs364bmi',\n",
       " 'ldquodryrdquo',\n",
       " 'jumpiness',\n",
       " 'hypervigilence',\n",
       " '2pillsday',\n",
       " 'monthsix',\n",
       " 'vacay',\n",
       " '3wk',\n",
       " 'ldquoobeserdquo',\n",
       " '156lbs248bmi',\n",
       " '198lbs315bmi',\n",
       " 'diclofenic',\n",
       " 'ldlhdl',\n",
       " 'l4amp5',\n",
       " 'blu',\n",
       " 'breakin',\n",
       " '2x300mg',\n",
       " 'hyperdrosis',\n",
       " 'indulge',\n",
       " 'rheumey',\n",
       " 'budge',\n",
       " 'upsets',\n",
       " 'snacker',\n",
       " 'whenwhat',\n",
       " 'darn',\n",
       " 'gimmick',\n",
       " 'nightquot',\n",
       " 'imitating',\n",
       " 'cube',\n",
       " 'ai',\n",
       " 'tanning',\n",
       " 'overused',\n",
       " 'sweeling',\n",
       " 'urtricaria',\n",
       " 'selfinjections',\n",
       " 'sinkput',\n",
       " 'greats',\n",
       " 'timeit',\n",
       " 'thatrsquos',\n",
       " 'suppresse',\n",
       " 'hpylori',\n",
       " 'exerciseand',\n",
       " '258',\n",
       " 'emu',\n",
       " 'pressureheart',\n",
       " 'roar',\n",
       " 'swab',\n",
       " 'postchemo',\n",
       " 'x1000',\n",
       " 'infectionbronchitis',\n",
       " 'bootcampstyle',\n",
       " 'estimated',\n",
       " 'clam',\n",
       " 'maoi',\n",
       " '_8',\n",
       " '36030',\n",
       " 'adolescent',\n",
       " 'spironolatone',\n",
       " 'quickley',\n",
       " 'axert',\n",
       " 'monthsthis',\n",
       " 'tricyclic',\n",
       " 'atypical',\n",
       " 'mis',\n",
       " 'myth',\n",
       " 'stemmed',\n",
       " '7i',\n",
       " 'gains',\n",
       " 'transport',\n",
       " 'miscarrying',\n",
       " 'cautionnew',\n",
       " 'eyed',\n",
       " 'voice039',\n",
       " 'bayer',\n",
       " '039the',\n",
       " 'letters',\n",
       " 'fluroquinolones',\n",
       " 'audition',\n",
       " 'twisting',\n",
       " 'fluoroquinolones',\n",
       " 'tucking',\n",
       " 'folding',\n",
       " 'sympathectomy',\n",
       " 'outweight',\n",
       " 'alat',\n",
       " 'tirednessweakness',\n",
       " 'kilo039s',\n",
       " 'unfortenately',\n",
       " 'ogre',\n",
       " 'furthermore',\n",
       " 'issurance',\n",
       " 'propelled',\n",
       " '60h',\n",
       " 'poorer',\n",
       " 'sedatives',\n",
       " 'nevertheless',\n",
       " '14001600',\n",
       " 'limbo',\n",
       " 'sight18500month',\n",
       " 'quotpoopoutquot',\n",
       " '840',\n",
       " 'psyllium',\n",
       " 'husk',\n",
       " 'amounted',\n",
       " 'cutter',\n",
       " 'temptation',\n",
       " 'dressed',\n",
       " 'coffeetouchdown',\n",
       " 'intact',\n",
       " 'crampsworks',\n",
       " '225mgi',\n",
       " 'omprazole',\n",
       " 'warfarin',\n",
       " 'operational',\n",
       " 'lycria',\n",
       " '550',\n",
       " 'schooldays',\n",
       " 'efidex',\n",
       " 'adventure',\n",
       " '875',\n",
       " '206lbs',\n",
       " 'starbucks',\n",
       " 'flab',\n",
       " 'valencia',\n",
       " 'gram',\n",
       " 'refresher',\n",
       " 'pineapple',\n",
       " 'discern',\n",
       " 'lemonchug',\n",
       " 'cupsuck',\n",
       " 'wacky',\n",
       " '50yrs',\n",
       " 'havnt',\n",
       " 'lemonwait',\n",
       " 'repeatdrink',\n",
       " 'insitu',\n",
       " 'eatingfitness',\n",
       " 'transplants',\n",
       " 'keratoconus',\n",
       " 'outdoor',\n",
       " 'fireworks',\n",
       " 'rhinitis',\n",
       " '25years',\n",
       " 'talkin',\n",
       " 'refrigerator',\n",
       " 'beforeget',\n",
       " 'testicle',\n",
       " 'lessens',\n",
       " 'systems',\n",
       " 'duck',\n",
       " 'hammered',\n",
       " '170lbs',\n",
       " 'efidux',\n",
       " 'scottish',\n",
       " '250month',\n",
       " 'basil',\n",
       " 'thingsbut',\n",
       " 'blunted',\n",
       " 'orthopedist',\n",
       " 'ascend',\n",
       " 'daylight',\n",
       " '039happy039',\n",
       " 'octmarch',\n",
       " 'dysthmia',\n",
       " 'sponsors',\n",
       " 'hoods',\n",
       " 'gerd039s',\n",
       " 'wimped',\n",
       " 'refrigerate',\n",
       " 'inguinal',\n",
       " 'epsom',\n",
       " '6clean',\n",
       " 'midmonth',\n",
       " 'mindless',\n",
       " 'pristiqamazing',\n",
       " 'engaged',\n",
       " 'mecaused',\n",
       " 'leveli',\n",
       " 'skytrain',\n",
       " 'soari',\n",
       " 'glandshurts',\n",
       " 'diskus',\n",
       " 'organize',\n",
       " 'silenor',\n",
       " 'sweetlemon',\n",
       " 'insurancewith',\n",
       " 'sympathetic',\n",
       " 'authorization',\n",
       " 'postive',\n",
       " 'faras',\n",
       " 'eyesi',\n",
       " 'painstill',\n",
       " 'starve',\n",
       " 'bd',\n",
       " 'trusted',\n",
       " 'zombieness',\n",
       " 'pinsneedles',\n",
       " 'untrusting',\n",
       " 'requirements',\n",
       " 'sept15',\n",
       " 'thereby',\n",
       " 'propranalol',\n",
       " 'introducing',\n",
       " 'malaise',\n",
       " 'overactivity',\n",
       " 'arrogant',\n",
       " 'months40mg',\n",
       " 'adultlife',\n",
       " 'deadline',\n",
       " 'efficiency',\n",
       " 'unappealing',\n",
       " 'ssriantidepressants',\n",
       " 'prevalent',\n",
       " 'parameters',\n",
       " 'letacutes',\n",
       " 'ondansetron',\n",
       " 'tyiglycerids',\n",
       " 'stabiliser',\n",
       " 'oneacutes',\n",
       " 'gord',\n",
       " 'bextra',\n",
       " 'june6',\n",
       " 'twinges',\n",
       " 'moisture',\n",
       " 'contrast',\n",
       " 'situationally',\n",
       " 'jerky',\n",
       " 'estridol',\n",
       " 'basses',\n",
       " 'theses',\n",
       " 'bullseye',\n",
       " 'screens',\n",
       " '150039s',\n",
       " 'depersonilization',\n",
       " 'unscared',\n",
       " 'likequot',\n",
       " 'quotzombie',\n",
       " 'subpar',\n",
       " 'adequate',\n",
       " 'tegaderm',\n",
       " 'waterproof',\n",
       " 'draws',\n",
       " 'exacerbations',\n",
       " 'lap',\n",
       " 'alltime',\n",
       " '830am',\n",
       " 'garage',\n",
       " 'rebelling',\n",
       " 'proteins',\n",
       " 'linsinopril',\n",
       " 'weightwater',\n",
       " 'omgthis',\n",
       " 'vanishing',\n",
       " 'sicknauseous',\n",
       " 'upgrade',\n",
       " 'depressingexhausting',\n",
       " 'o039clock',\n",
       " 'ejaculating',\n",
       " 'nauseoussick',\n",
       " 'urologists',\n",
       " 'testicles',\n",
       " 'quotmessedquot',\n",
       " 'quotsomethingquot',\n",
       " 'dizzynauseous',\n",
       " 'placequot',\n",
       " 'bullcrap',\n",
       " 'quothold',\n",
       " 'infectionurinary',\n",
       " 'instrument',\n",
       " 'sidequot',\n",
       " 'introvert',\n",
       " 'amspotting',\n",
       " 'spottingwell',\n",
       " 'yesit',\n",
       " 'mcdonalds',\n",
       " 'whelp',\n",
       " '4080mg',\n",
       " 'abilities',\n",
       " 'sally039s',\n",
       " 'afibfor',\n",
       " 'benztropine',\n",
       " 'disconecia',\n",
       " 'fidgeting',\n",
       " 'dual',\n",
       " 'pooping',\n",
       " 'amitriiptyline',\n",
       " 'heres',\n",
       " 'zones',\n",
       " 'titanic',\n",
       " 'mindboggling',\n",
       " 'strokes',\n",
       " 'selecting',\n",
       " 'flareup',\n",
       " 'reducer',\n",
       " 'werid',\n",
       " 'buildup',\n",
       " 'forcing',\n",
       " 'communicate',\n",
       " 'desicion',\n",
       " 'prevacid',\n",
       " 'conscience',\n",
       " 'removes',\n",
       " 'underestimated',\n",
       " 'fibromyalgiait',\n",
       " 'mgso',\n",
       " 'nightnow',\n",
       " '12813',\n",
       " 'switches',\n",
       " 'contestant',\n",
       " 'l8r',\n",
       " 'hpt',\n",
       " '4don039t',\n",
       " 'morningnight',\n",
       " '3change',\n",
       " 'thinnest',\n",
       " '12613',\n",
       " 'attachments',\n",
       " '8994',\n",
       " 'saltine',\n",
       " 'proscons',\n",
       " '2go',\n",
       " 'fastestthen',\n",
       " 'unbearablethat',\n",
       " 'advice1get',\n",
       " 'draggy',\n",
       " 'apathetic',\n",
       " 'upliterally',\n",
       " 'bathe',\n",
       " 'stave',\n",
       " '3times',\n",
       " 'tenormin',\n",
       " 'medicatation',\n",
       " 'drtelling',\n",
       " '6630',\n",
       " '5325mg',\n",
       " 'frown',\n",
       " 'chestexhausted',\n",
       " 'granting',\n",
       " 'houses',\n",
       " '1130am',\n",
       " 'schoolwork',\n",
       " 'workman039s',\n",
       " 'comp',\n",
       " 'craved',\n",
       " 'hydrocodoneacetaminophen',\n",
       " 'closest',\n",
       " 'healt',\n",
       " 'ain039t',\n",
       " 'crier',\n",
       " 'bitartate',\n",
       " 'collapsed',\n",
       " 'collapses',\n",
       " 'interruption',\n",
       " 'sicker',\n",
       " 'necrosis',\n",
       " 'aseptic',\n",
       " 'acidity',\n",
       " 'doc039s',\n",
       " 'harmonal',\n",
       " 'hoo',\n",
       " 'nicu',\n",
       " 'mimicked',\n",
       " 'symptomsquot',\n",
       " 'quotpregnancy',\n",
       " 'tanpons',\n",
       " 'novenmber',\n",
       " 'coherent',\n",
       " 'scoot',\n",
       " 'haa',\n",
       " 'quotstuckquot',\n",
       " 'molyl',\n",
       " 'allthetime',\n",
       " 'prolactin',\n",
       " 'primer',\n",
       " 'elf',\n",
       " 'milky',\n",
       " 'exfoliating',\n",
       " 'lukewarm',\n",
       " 'oilysensitive',\n",
       " 'complaintshaven039t',\n",
       " 'micronor',\n",
       " 'coutious',\n",
       " 'evaporated',\n",
       " 'suspecting',\n",
       " 'literature',\n",
       " 'anyplace',\n",
       " 'depressionbut',\n",
       " 'quotback',\n",
       " '850am',\n",
       " 'components',\n",
       " 'bingingthis',\n",
       " 'drugthe',\n",
       " '61212',\n",
       " 'shine',\n",
       " 'dopiness',\n",
       " 'homesrehabhomecare',\n",
       " 'hospitalsnursing',\n",
       " 'dvts',\n",
       " 'shoved',\n",
       " 'burp',\n",
       " 'devices',\n",
       " 'compression',\n",
       " 'underestimate',\n",
       " 'meantime',\n",
       " 'minocyclin',\n",
       " 'acnehighly',\n",
       " 'medsi',\n",
       " 'milestone',\n",
       " 'opens',\n",
       " 'morningjust',\n",
       " 'runnerso',\n",
       " 'quotneeding',\n",
       " 'plaguing',\n",
       " 'ballon',\n",
       " 'seasoniquebut',\n",
       " '34d',\n",
       " 'quotwhat',\n",
       " '34f',\n",
       " 'wrapping',\n",
       " 'data',\n",
       " 'inexpensively',\n",
       " 'narrowest',\n",
       " ...]"
      ]
     },
     "execution_count": 16,
     "metadata": {},
     "output_type": "execute_result"
    }
   ],
   "source": [
    "freq = pd.Series(' '.join(df['review1']).split()).value_counts()\n",
    "less_freq = list(freq[freq == 1].index)\n",
    "less_freq"
   ]
  },
  {
   "cell_type": "markdown",
   "metadata": {
    "id": "W9rKGKpSBiZh"
   },
   "source": [
    "Spliting the data into train and test sets:"
   ]
  },
  {
   "cell_type": "code",
   "execution_count": 17,
   "metadata": {
    "id": "IkHqZeEH8z90"
   },
   "outputs": [],
   "source": [
    "sentences = df['review1']\n",
    "y = df['condition']\n",
    "\n",
    "sentences_train, sentences_test, train_y, test_y = train_test_split(sentences, y, test_size=0.25, random_state=42)"
   ]
  },
  {
   "cell_type": "markdown",
   "metadata": {
    "id": "3QAGoEuMFzdb"
   },
   "source": [
    "**Word Embeddings**\n",
    "\n",
    "Word Embedding is a representation of text where words that have the same meaning have a similar representation. It shows words in a coordinate system where related words, based on a corpus of relationships, are placed closer together. In the deep learning frameworks such as  Keras, this part is generally handled by an embedding layer."
   ]
  },
  {
   "cell_type": "code",
   "execution_count": 18,
   "metadata": {
    "colab": {
     "base_uri": "https://localhost:8080/",
     "height": 51
    },
    "id": "gKMCfclv8z3D",
    "outputId": "95bb57c8-0b98-455d-928e-3d3f7a372a19"
   },
   "outputs": [
    {
     "name": "stdout",
     "output_type": "stream",
     "text": [
      "quick reduction symptoms\n",
      "[3, 20, 313, 344, 81, 73, 10, 54, 84, 145]\n"
     ]
    }
   ],
   "source": [
    "tokenize = Tokenizer(num_words=1000)\n",
    "tokenize.fit_on_texts(sentences_train)\n",
    "\n",
    "X_train = tokenize.texts_to_sequences(sentences_train)\n",
    "X_test = tokenize.texts_to_sequences(sentences_test)\n",
    "\n",
    "vocab_size = len(tokenize.word_index) + 1  \n",
    "\n",
    "print(sentences_train[2])\n",
    "print(X_train[2])"
   ]
  },
  {
   "cell_type": "code",
   "execution_count": 19,
   "metadata": {
    "colab": {
     "base_uri": "https://localhost:8080/",
     "height": 119
    },
    "id": "GZKPGXLlCADP",
    "outputId": "e399dc65-8fa4-4d00-a647-6de88fadffac"
   },
   "outputs": [
    {
     "name": "stdout",
     "output_type": "stream",
     "text": [
      "[ 55  14 469   0   0   0   0   0   0   0   0   0   0   0   0   0   0   0\n",
      "   0   0   0   0   0   0   0   0   0   0   0   0   0   0   0   0   0   0\n",
      "   0   0   0   0   0   0   0   0   0   0   0   0   0   0   0   0   0   0\n",
      "   0   0   0   0   0   0   0   0   0   0   0   0   0   0   0   0   0   0\n",
      "   0   0   0   0   0   0   0   0   0   0   0   0   0   0   0   0   0   0\n",
      "   0   0   0   0   0   0   0   0   0   0]\n"
     ]
    }
   ],
   "source": [
    "maxlen = 100\n",
    "\n",
    "X_train = pad_sequences(X_train, padding='post', maxlen=maxlen)\n",
    "X_test = pad_sequences(X_test, padding='post', maxlen=maxlen)\n",
    "\n",
    "print(X_train[0, :])"
   ]
  },
  {
   "cell_type": "raw",
   "metadata": {},
   "source": [
    "#from sklearn.preprocessing import LabelEncoder\n",
    "le = LabelEncoder()\n",
    "train_y = le.fit_transform(train_y.values)\n",
    "test_y = le.transform(test_y.values)"
   ]
  },
  {
   "cell_type": "code",
   "execution_count": 34,
   "metadata": {},
   "outputs": [],
   "source": [
    "from sklearn.preprocessing import OrdinalEncoder\n",
    "\n",
    "# Create encoder\n",
    "ordinal_encoder = OrdinalEncoder(handle_unknown='use_encoded_value',\n",
    "                                 unknown_value=-1)\n",
    "\n",
    "# Fit on training data\n",
    "ordinal_encoder.fit(train_y.reshape(-1, 1)) #np.array([1,2,3,4,5])\n",
    "\n",
    "# Transform, notice that 0 and 6 are values that were never seen before\n",
    "y_train = ordinal_encoder.transform(train_y.reshape(-1, 1)) #np.array([0,1,2,3,4,5,6])\n",
    "y_test = ordinal_encoder.transform(test_y.values.reshape(-1, 1)) #Y.values.reshape(-1,1)\n",
    "\n",
    "y_train=y_train.astype(int)\n",
    "\n",
    "num_classes = np.max(y_train) + 1\n",
    "y_train = utils.to_categorical(y_train, num_classes) #num_classes\n",
    "y_test = utils.to_categorical(y_test, num_classes)"
   ]
  },
  {
   "cell_type": "markdown",
   "metadata": {
    "id": "QKAWaiZuHjm6"
   },
   "source": [
    "**Building the neural network model**\n",
    "\n",
    "We built and trained several models to choose best of them. First of them is a simple neural network model."
   ]
  },
  {
   "cell_type": "code",
   "execution_count": 35,
   "metadata": {
    "colab": {
     "base_uri": "https://localhost:8080/",
     "height": 289
    },
    "id": "Kcaj0Pp2CANk",
    "outputId": "caa48c5c-cee5-48cc-f0b8-f079c9130b6b"
   },
   "outputs": [
    {
     "name": "stdout",
     "output_type": "stream",
     "text": [
      "Model: \"sequential_1\"\n",
      "_________________________________________________________________\n",
      "Layer (type)                 Output Shape              Param #   \n",
      "=================================================================\n",
      "embedding_1 (Embedding)      (None, 100, 16)           193744    \n",
      "_________________________________________________________________\n",
      "flatten_1 (Flatten)          (None, 1600)              0         \n",
      "_________________________________________________________________\n",
      "dense_2 (Dense)              (None, 16)                25616     \n",
      "_________________________________________________________________\n",
      "dense_3 (Dense)              (None, 5)                 85        \n",
      "=================================================================\n",
      "Total params: 219,445\n",
      "Trainable params: 219,445\n",
      "Non-trainable params: 0\n",
      "_________________________________________________________________\n"
     ]
    }
   ],
   "source": [
    "embedding_dim = 16\n",
    "\n",
    "model = Sequential()\n",
    "model.add(Embedding(input_dim=vocab_size, output_dim=embedding_dim, input_length=maxlen))\n",
    "model.add(Flatten())\n",
    "model.add(Dense(16, activation='relu'))\n",
    "model.add(Dense(5, activation='softmax'))\n",
    "\n",
    "model.compile(optimizer='adam',\n",
    "              loss='sparse_categorical_crossentropy', #categorical_crossentropy\n",
    "              metrics=['accuracy'])\n",
    "model.summary()\n"
   ]
  },
  {
   "cell_type": "code",
   "execution_count": 36,
   "metadata": {
    "colab": {
     "base_uri": "https://localhost:8080/",
     "height": 533
    },
    "id": "yXEsYFuNYnJT",
    "outputId": "ae9cd484-699e-42f0-b9d0-5cb595a32700"
   },
   "outputs": [
    {
     "data": {
      "image/png": "[encoded data removed]",
      "text/plain": [
       "<IPython.core.display.Image object>"
      ]
     },
     "execution_count": 36,
     "metadata": {},
     "output_type": "execute_result"
    }
   ],
   "source": [
    "from keras.utils import plot_model\n",
    "plot_model(model, to_file='model_1.png', show_shapes=True, show_layer_names=True)"
   ]
  },
  {
   "cell_type": "code",
   "execution_count": 37,
   "metadata": {
    "colab": {
     "base_uri": "https://localhost:8080/",
     "height": 527
    },
    "id": "roe26IFLCAJk",
    "outputId": "7400fe18-5b23-4db0-c2e3-353beaa25fb8"
   },
   "outputs": [
    {
     "name": "stdout",
     "output_type": "stream",
     "text": [
      "Epoch 1/15\n"
     ]
    },
    {
     "ename": "InvalidArgumentError",
     "evalue": " logits and labels must have the same first dimension, got logits shape [32,5] and labels shape [7296]\n\t [[node sparse_categorical_crossentropy/SparseSoftmaxCrossEntropyWithLogits/SparseSoftmaxCrossEntropyWithLogits (defined at \\AppData\\Local\\Temp\\ipykernel_12940\\4166743824.py:1) ]] [Op:__inference_train_function_882]\n\nFunction call stack:\ntrain_function\n",
     "output_type": "error",
     "traceback": [
      "\u001b[1;31m---------------------------------------------------------------------------\u001b[0m",
      "\u001b[1;31mInvalidArgumentError\u001b[0m                      Traceback (most recent call last)",
      "Input \u001b[1;32mIn [37]\u001b[0m, in \u001b[0;36m<cell line: 1>\u001b[1;34m()\u001b[0m\n\u001b[1;32m----> 1\u001b[0m history \u001b[38;5;241m=\u001b[39m \u001b[43mmodel\u001b[49m\u001b[38;5;241;43m.\u001b[39;49m\u001b[43mfit\u001b[49m\u001b[43m(\u001b[49m\u001b[43mX_train\u001b[49m\u001b[43m,\u001b[49m\u001b[43m \u001b[49m\u001b[43my_train\u001b[49m\u001b[43m,\u001b[49m\n\u001b[0;32m      2\u001b[0m \u001b[43m                    \u001b[49m\u001b[43mbatch_size\u001b[49m\u001b[38;5;241;43m=\u001b[39;49m\u001b[38;5;241;43m32\u001b[39;49m\u001b[43m,\u001b[49m\n\u001b[0;32m      3\u001b[0m \u001b[43m                    \u001b[49m\u001b[43mepochs\u001b[49m\u001b[38;5;241;43m=\u001b[39;49m\u001b[38;5;241;43m15\u001b[39;49m\u001b[43m,\u001b[49m\n\u001b[0;32m      4\u001b[0m \u001b[43m                    \u001b[49m\u001b[43mvalidation_data\u001b[49m\u001b[38;5;241;43m=\u001b[39;49m\u001b[43m(\u001b[49m\u001b[43mX_test\u001b[49m\u001b[43m,\u001b[49m\u001b[43m \u001b[49m\u001b[43my_test\u001b[49m\u001b[43m)\u001b[49m\u001b[43m)\u001b[49m\n",
      "File \u001b[1;32m~\\anaconda3\\envs\\tensorflow_env\\lib\\site-packages\\tensorflow\\python\\keras\\engine\\training.py:108\u001b[0m, in \u001b[0;36menable_multi_worker.<locals>._method_wrapper\u001b[1;34m(self, *args, **kwargs)\u001b[0m\n\u001b[0;32m    106\u001b[0m \u001b[38;5;28;01mdef\u001b[39;00m \u001b[38;5;21m_method_wrapper\u001b[39m(\u001b[38;5;28mself\u001b[39m, \u001b[38;5;241m*\u001b[39margs, \u001b[38;5;241m*\u001b[39m\u001b[38;5;241m*\u001b[39mkwargs):\n\u001b[0;32m    107\u001b[0m   \u001b[38;5;28;01mif\u001b[39;00m \u001b[38;5;129;01mnot\u001b[39;00m \u001b[38;5;28mself\u001b[39m\u001b[38;5;241m.\u001b[39m_in_multi_worker_mode():  \u001b[38;5;66;03m# pylint: disable=protected-access\u001b[39;00m\n\u001b[1;32m--> 108\u001b[0m     \u001b[38;5;28;01mreturn\u001b[39;00m \u001b[43mmethod\u001b[49m\u001b[43m(\u001b[49m\u001b[38;5;28;43mself\u001b[39;49m\u001b[43m,\u001b[49m\u001b[43m \u001b[49m\u001b[38;5;241;43m*\u001b[39;49m\u001b[43margs\u001b[49m\u001b[43m,\u001b[49m\u001b[43m \u001b[49m\u001b[38;5;241;43m*\u001b[39;49m\u001b[38;5;241;43m*\u001b[39;49m\u001b[43mkwargs\u001b[49m\u001b[43m)\u001b[49m\n\u001b[0;32m    110\u001b[0m   \u001b[38;5;66;03m# Running inside `run_distribute_coordinator` already.\u001b[39;00m\n\u001b[0;32m    111\u001b[0m   \u001b[38;5;28;01mif\u001b[39;00m dc_context\u001b[38;5;241m.\u001b[39mget_current_worker_context():\n",
      "File \u001b[1;32m~\\anaconda3\\envs\\tensorflow_env\\lib\\site-packages\\tensorflow\\python\\keras\\engine\\training.py:1098\u001b[0m, in \u001b[0;36mModel.fit\u001b[1;34m(self, x, y, batch_size, epochs, verbose, callbacks, validation_split, validation_data, shuffle, class_weight, sample_weight, initial_epoch, steps_per_epoch, validation_steps, validation_batch_size, validation_freq, max_queue_size, workers, use_multiprocessing)\u001b[0m\n\u001b[0;32m   1091\u001b[0m \u001b[38;5;28;01mwith\u001b[39;00m trace\u001b[38;5;241m.\u001b[39mTrace(\n\u001b[0;32m   1092\u001b[0m     \u001b[38;5;124m'\u001b[39m\u001b[38;5;124mTraceContext\u001b[39m\u001b[38;5;124m'\u001b[39m,\n\u001b[0;32m   1093\u001b[0m     graph_type\u001b[38;5;241m=\u001b[39m\u001b[38;5;124m'\u001b[39m\u001b[38;5;124mtrain\u001b[39m\u001b[38;5;124m'\u001b[39m,\n\u001b[0;32m   1094\u001b[0m     epoch_num\u001b[38;5;241m=\u001b[39mepoch,\n\u001b[0;32m   1095\u001b[0m     step_num\u001b[38;5;241m=\u001b[39mstep,\n\u001b[0;32m   1096\u001b[0m     batch_size\u001b[38;5;241m=\u001b[39mbatch_size):\n\u001b[0;32m   1097\u001b[0m   callbacks\u001b[38;5;241m.\u001b[39mon_train_batch_begin(step)\n\u001b[1;32m-> 1098\u001b[0m   tmp_logs \u001b[38;5;241m=\u001b[39m \u001b[43mtrain_function\u001b[49m\u001b[43m(\u001b[49m\u001b[43miterator\u001b[49m\u001b[43m)\u001b[49m\n\u001b[0;32m   1099\u001b[0m   \u001b[38;5;28;01mif\u001b[39;00m data_handler\u001b[38;5;241m.\u001b[39mshould_sync:\n\u001b[0;32m   1100\u001b[0m     context\u001b[38;5;241m.\u001b[39masync_wait()\n",
      "File \u001b[1;32m~\\anaconda3\\envs\\tensorflow_env\\lib\\site-packages\\tensorflow\\python\\eager\\def_function.py:780\u001b[0m, in \u001b[0;36mFunction.__call__\u001b[1;34m(self, *args, **kwds)\u001b[0m\n\u001b[0;32m    778\u001b[0m \u001b[38;5;28;01melse\u001b[39;00m:\n\u001b[0;32m    779\u001b[0m   compiler \u001b[38;5;241m=\u001b[39m \u001b[38;5;124m\"\u001b[39m\u001b[38;5;124mnonXla\u001b[39m\u001b[38;5;124m\"\u001b[39m\n\u001b[1;32m--> 780\u001b[0m   result \u001b[38;5;241m=\u001b[39m \u001b[38;5;28;43mself\u001b[39;49m\u001b[38;5;241;43m.\u001b[39;49m\u001b[43m_call\u001b[49m\u001b[43m(\u001b[49m\u001b[38;5;241;43m*\u001b[39;49m\u001b[43margs\u001b[49m\u001b[43m,\u001b[49m\u001b[43m \u001b[49m\u001b[38;5;241;43m*\u001b[39;49m\u001b[38;5;241;43m*\u001b[39;49m\u001b[43mkwds\u001b[49m\u001b[43m)\u001b[49m\n\u001b[0;32m    782\u001b[0m new_tracing_count \u001b[38;5;241m=\u001b[39m \u001b[38;5;28mself\u001b[39m\u001b[38;5;241m.\u001b[39m_get_tracing_count()\n\u001b[0;32m    783\u001b[0m without_tracing \u001b[38;5;241m=\u001b[39m (tracing_count \u001b[38;5;241m==\u001b[39m new_tracing_count)\n",
      "File \u001b[1;32m~\\anaconda3\\envs\\tensorflow_env\\lib\\site-packages\\tensorflow\\python\\eager\\def_function.py:840\u001b[0m, in \u001b[0;36mFunction._call\u001b[1;34m(self, *args, **kwds)\u001b[0m\n\u001b[0;32m    836\u001b[0m     \u001b[38;5;28;01mpass\u001b[39;00m  \u001b[38;5;66;03m# Fall through to cond-based initialization.\u001b[39;00m\n\u001b[0;32m    837\u001b[0m   \u001b[38;5;28;01melse\u001b[39;00m:\n\u001b[0;32m    838\u001b[0m     \u001b[38;5;66;03m# Lifting succeeded, so variables are initialized and we can run the\u001b[39;00m\n\u001b[0;32m    839\u001b[0m     \u001b[38;5;66;03m# stateless function.\u001b[39;00m\n\u001b[1;32m--> 840\u001b[0m     \u001b[38;5;28;01mreturn\u001b[39;00m \u001b[38;5;28;43mself\u001b[39;49m\u001b[38;5;241;43m.\u001b[39;49m\u001b[43m_stateless_fn\u001b[49m\u001b[43m(\u001b[49m\u001b[38;5;241;43m*\u001b[39;49m\u001b[43margs\u001b[49m\u001b[43m,\u001b[49m\u001b[43m \u001b[49m\u001b[38;5;241;43m*\u001b[39;49m\u001b[38;5;241;43m*\u001b[39;49m\u001b[43mkwds\u001b[49m\u001b[43m)\u001b[49m\n\u001b[0;32m    841\u001b[0m \u001b[38;5;28;01melse\u001b[39;00m:\n\u001b[0;32m    842\u001b[0m   canon_args, canon_kwds \u001b[38;5;241m=\u001b[39m \\\n\u001b[0;32m    843\u001b[0m       \u001b[38;5;28mself\u001b[39m\u001b[38;5;241m.\u001b[39m_stateful_fn\u001b[38;5;241m.\u001b[39m_function_spec\u001b[38;5;241m.\u001b[39mcanonicalize_function_inputs(  \u001b[38;5;66;03m# pylint: disable=protected-access\u001b[39;00m\n\u001b[0;32m    844\u001b[0m           \u001b[38;5;241m*\u001b[39margs, \u001b[38;5;241m*\u001b[39m\u001b[38;5;241m*\u001b[39mkwds)\n",
      "File \u001b[1;32m~\\anaconda3\\envs\\tensorflow_env\\lib\\site-packages\\tensorflow\\python\\eager\\function.py:2829\u001b[0m, in \u001b[0;36mFunction.__call__\u001b[1;34m(self, *args, **kwargs)\u001b[0m\n\u001b[0;32m   2827\u001b[0m \u001b[38;5;28;01mwith\u001b[39;00m \u001b[38;5;28mself\u001b[39m\u001b[38;5;241m.\u001b[39m_lock:\n\u001b[0;32m   2828\u001b[0m   graph_function, args, kwargs \u001b[38;5;241m=\u001b[39m \u001b[38;5;28mself\u001b[39m\u001b[38;5;241m.\u001b[39m_maybe_define_function(args, kwargs)\n\u001b[1;32m-> 2829\u001b[0m \u001b[38;5;28;01mreturn\u001b[39;00m \u001b[43mgraph_function\u001b[49m\u001b[38;5;241;43m.\u001b[39;49m\u001b[43m_filtered_call\u001b[49m\u001b[43m(\u001b[49m\u001b[43margs\u001b[49m\u001b[43m,\u001b[49m\u001b[43m \u001b[49m\u001b[43mkwargs\u001b[49m\u001b[43m)\u001b[49m\n",
      "File \u001b[1;32m~\\anaconda3\\envs\\tensorflow_env\\lib\\site-packages\\tensorflow\\python\\eager\\function.py:1843\u001b[0m, in \u001b[0;36mConcreteFunction._filtered_call\u001b[1;34m(self, args, kwargs, cancellation_manager)\u001b[0m\n\u001b[0;32m   1827\u001b[0m \u001b[38;5;28;01mdef\u001b[39;00m \u001b[38;5;21m_filtered_call\u001b[39m(\u001b[38;5;28mself\u001b[39m, args, kwargs, cancellation_manager\u001b[38;5;241m=\u001b[39m\u001b[38;5;28;01mNone\u001b[39;00m):\n\u001b[0;32m   1828\u001b[0m   \u001b[38;5;124;03m\"\"\"Executes the function, filtering arguments from the Python function.\u001b[39;00m\n\u001b[0;32m   1829\u001b[0m \n\u001b[0;32m   1830\u001b[0m \u001b[38;5;124;03m  Objects aside from Tensors, CompositeTensors, and Variables are ignored.\u001b[39;00m\n\u001b[1;32m   (...)\u001b[0m\n\u001b[0;32m   1841\u001b[0m \u001b[38;5;124;03m    `args` and `kwargs`.\u001b[39;00m\n\u001b[0;32m   1842\u001b[0m \u001b[38;5;124;03m  \"\"\"\u001b[39;00m\n\u001b[1;32m-> 1843\u001b[0m   \u001b[38;5;28;01mreturn\u001b[39;00m \u001b[38;5;28;43mself\u001b[39;49m\u001b[38;5;241;43m.\u001b[39;49m\u001b[43m_call_flat\u001b[49m\u001b[43m(\u001b[49m\n\u001b[0;32m   1844\u001b[0m \u001b[43m      \u001b[49m\u001b[43m[\u001b[49m\u001b[43mt\u001b[49m\u001b[43m \u001b[49m\u001b[38;5;28;43;01mfor\u001b[39;49;00m\u001b[43m \u001b[49m\u001b[43mt\u001b[49m\u001b[43m \u001b[49m\u001b[38;5;129;43;01min\u001b[39;49;00m\u001b[43m \u001b[49m\u001b[43mnest\u001b[49m\u001b[38;5;241;43m.\u001b[39;49m\u001b[43mflatten\u001b[49m\u001b[43m(\u001b[49m\u001b[43m(\u001b[49m\u001b[43margs\u001b[49m\u001b[43m,\u001b[49m\u001b[43m \u001b[49m\u001b[43mkwargs\u001b[49m\u001b[43m)\u001b[49m\u001b[43m,\u001b[49m\u001b[43m \u001b[49m\u001b[43mexpand_composites\u001b[49m\u001b[38;5;241;43m=\u001b[39;49m\u001b[38;5;28;43;01mTrue\u001b[39;49;00m\u001b[43m)\u001b[49m\n\u001b[0;32m   1845\u001b[0m \u001b[43m       \u001b[49m\u001b[38;5;28;43;01mif\u001b[39;49;00m\u001b[43m \u001b[49m\u001b[38;5;28;43misinstance\u001b[39;49m\u001b[43m(\u001b[49m\u001b[43mt\u001b[49m\u001b[43m,\u001b[49m\u001b[43m \u001b[49m\u001b[43m(\u001b[49m\u001b[43mops\u001b[49m\u001b[38;5;241;43m.\u001b[39;49m\u001b[43mTensor\u001b[49m\u001b[43m,\u001b[49m\n\u001b[0;32m   1846\u001b[0m \u001b[43m                         \u001b[49m\u001b[43mresource_variable_ops\u001b[49m\u001b[38;5;241;43m.\u001b[39;49m\u001b[43mBaseResourceVariable\u001b[49m\u001b[43m)\u001b[49m\u001b[43m)\u001b[49m\u001b[43m]\u001b[49m\u001b[43m,\u001b[49m\n\u001b[0;32m   1847\u001b[0m \u001b[43m      \u001b[49m\u001b[43mcaptured_inputs\u001b[49m\u001b[38;5;241;43m=\u001b[39;49m\u001b[38;5;28;43mself\u001b[39;49m\u001b[38;5;241;43m.\u001b[39;49m\u001b[43mcaptured_inputs\u001b[49m\u001b[43m,\u001b[49m\n\u001b[0;32m   1848\u001b[0m \u001b[43m      \u001b[49m\u001b[43mcancellation_manager\u001b[49m\u001b[38;5;241;43m=\u001b[39;49m\u001b[43mcancellation_manager\u001b[49m\u001b[43m)\u001b[49m\n",
      "File \u001b[1;32m~\\anaconda3\\envs\\tensorflow_env\\lib\\site-packages\\tensorflow\\python\\eager\\function.py:1923\u001b[0m, in \u001b[0;36mConcreteFunction._call_flat\u001b[1;34m(self, args, captured_inputs, cancellation_manager)\u001b[0m\n\u001b[0;32m   1918\u001b[0m possible_gradient_type \u001b[38;5;241m=\u001b[39m (\n\u001b[0;32m   1919\u001b[0m     pywrap_tfe\u001b[38;5;241m.\u001b[39mTFE_Py_TapeSetPossibleGradientTypes(args))\n\u001b[0;32m   1920\u001b[0m \u001b[38;5;28;01mif\u001b[39;00m (possible_gradient_type \u001b[38;5;241m==\u001b[39m _POSSIBLE_GRADIENT_TYPES_NONE\n\u001b[0;32m   1921\u001b[0m     \u001b[38;5;129;01mand\u001b[39;00m executing_eagerly):\n\u001b[0;32m   1922\u001b[0m   \u001b[38;5;66;03m# No tape is watching; skip to running the function.\u001b[39;00m\n\u001b[1;32m-> 1923\u001b[0m   \u001b[38;5;28;01mreturn\u001b[39;00m \u001b[38;5;28mself\u001b[39m\u001b[38;5;241m.\u001b[39m_build_call_outputs(\u001b[38;5;28;43mself\u001b[39;49m\u001b[38;5;241;43m.\u001b[39;49m\u001b[43m_inference_function\u001b[49m\u001b[38;5;241;43m.\u001b[39;49m\u001b[43mcall\u001b[49m\u001b[43m(\u001b[49m\n\u001b[0;32m   1924\u001b[0m \u001b[43m      \u001b[49m\u001b[43mctx\u001b[49m\u001b[43m,\u001b[49m\u001b[43m \u001b[49m\u001b[43margs\u001b[49m\u001b[43m,\u001b[49m\u001b[43m \u001b[49m\u001b[43mcancellation_manager\u001b[49m\u001b[38;5;241;43m=\u001b[39;49m\u001b[43mcancellation_manager\u001b[49m\u001b[43m)\u001b[49m)\n\u001b[0;32m   1925\u001b[0m forward_backward \u001b[38;5;241m=\u001b[39m \u001b[38;5;28mself\u001b[39m\u001b[38;5;241m.\u001b[39m_select_forward_and_backward_functions(\n\u001b[0;32m   1926\u001b[0m     args,\n\u001b[0;32m   1927\u001b[0m     possible_gradient_type,\n\u001b[0;32m   1928\u001b[0m     executing_eagerly)\n\u001b[0;32m   1929\u001b[0m forward_function, args_with_tangents \u001b[38;5;241m=\u001b[39m forward_backward\u001b[38;5;241m.\u001b[39mforward()\n",
      "File \u001b[1;32m~\\anaconda3\\envs\\tensorflow_env\\lib\\site-packages\\tensorflow\\python\\eager\\function.py:545\u001b[0m, in \u001b[0;36m_EagerDefinedFunction.call\u001b[1;34m(self, ctx, args, cancellation_manager)\u001b[0m\n\u001b[0;32m    543\u001b[0m \u001b[38;5;28;01mwith\u001b[39;00m _InterpolateFunctionError(\u001b[38;5;28mself\u001b[39m):\n\u001b[0;32m    544\u001b[0m   \u001b[38;5;28;01mif\u001b[39;00m cancellation_manager \u001b[38;5;129;01mis\u001b[39;00m \u001b[38;5;28;01mNone\u001b[39;00m:\n\u001b[1;32m--> 545\u001b[0m     outputs \u001b[38;5;241m=\u001b[39m \u001b[43mexecute\u001b[49m\u001b[38;5;241;43m.\u001b[39;49m\u001b[43mexecute\u001b[49m\u001b[43m(\u001b[49m\n\u001b[0;32m    546\u001b[0m \u001b[43m        \u001b[49m\u001b[38;5;28;43mstr\u001b[39;49m\u001b[43m(\u001b[49m\u001b[38;5;28;43mself\u001b[39;49m\u001b[38;5;241;43m.\u001b[39;49m\u001b[43msignature\u001b[49m\u001b[38;5;241;43m.\u001b[39;49m\u001b[43mname\u001b[49m\u001b[43m)\u001b[49m\u001b[43m,\u001b[49m\n\u001b[0;32m    547\u001b[0m \u001b[43m        \u001b[49m\u001b[43mnum_outputs\u001b[49m\u001b[38;5;241;43m=\u001b[39;49m\u001b[38;5;28;43mself\u001b[39;49m\u001b[38;5;241;43m.\u001b[39;49m\u001b[43m_num_outputs\u001b[49m\u001b[43m,\u001b[49m\n\u001b[0;32m    548\u001b[0m \u001b[43m        \u001b[49m\u001b[43minputs\u001b[49m\u001b[38;5;241;43m=\u001b[39;49m\u001b[43margs\u001b[49m\u001b[43m,\u001b[49m\n\u001b[0;32m    549\u001b[0m \u001b[43m        \u001b[49m\u001b[43mattrs\u001b[49m\u001b[38;5;241;43m=\u001b[39;49m\u001b[43mattrs\u001b[49m\u001b[43m,\u001b[49m\n\u001b[0;32m    550\u001b[0m \u001b[43m        \u001b[49m\u001b[43mctx\u001b[49m\u001b[38;5;241;43m=\u001b[39;49m\u001b[43mctx\u001b[49m\u001b[43m)\u001b[49m\n\u001b[0;32m    551\u001b[0m   \u001b[38;5;28;01melse\u001b[39;00m:\n\u001b[0;32m    552\u001b[0m     outputs \u001b[38;5;241m=\u001b[39m execute\u001b[38;5;241m.\u001b[39mexecute_with_cancellation(\n\u001b[0;32m    553\u001b[0m         \u001b[38;5;28mstr\u001b[39m(\u001b[38;5;28mself\u001b[39m\u001b[38;5;241m.\u001b[39msignature\u001b[38;5;241m.\u001b[39mname),\n\u001b[0;32m    554\u001b[0m         num_outputs\u001b[38;5;241m=\u001b[39m\u001b[38;5;28mself\u001b[39m\u001b[38;5;241m.\u001b[39m_num_outputs,\n\u001b[1;32m   (...)\u001b[0m\n\u001b[0;32m    557\u001b[0m         ctx\u001b[38;5;241m=\u001b[39mctx,\n\u001b[0;32m    558\u001b[0m         cancellation_manager\u001b[38;5;241m=\u001b[39mcancellation_manager)\n",
      "File \u001b[1;32m~\\anaconda3\\envs\\tensorflow_env\\lib\\site-packages\\tensorflow\\python\\eager\\execute.py:59\u001b[0m, in \u001b[0;36mquick_execute\u001b[1;34m(op_name, num_outputs, inputs, attrs, ctx, name)\u001b[0m\n\u001b[0;32m     57\u001b[0m \u001b[38;5;28;01mtry\u001b[39;00m:\n\u001b[0;32m     58\u001b[0m   ctx\u001b[38;5;241m.\u001b[39mensure_initialized()\n\u001b[1;32m---> 59\u001b[0m   tensors \u001b[38;5;241m=\u001b[39m \u001b[43mpywrap_tfe\u001b[49m\u001b[38;5;241;43m.\u001b[39;49m\u001b[43mTFE_Py_Execute\u001b[49m\u001b[43m(\u001b[49m\u001b[43mctx\u001b[49m\u001b[38;5;241;43m.\u001b[39;49m\u001b[43m_handle\u001b[49m\u001b[43m,\u001b[49m\u001b[43m \u001b[49m\u001b[43mdevice_name\u001b[49m\u001b[43m,\u001b[49m\u001b[43m \u001b[49m\u001b[43mop_name\u001b[49m\u001b[43m,\u001b[49m\n\u001b[0;32m     60\u001b[0m \u001b[43m                                      \u001b[49m\u001b[43minputs\u001b[49m\u001b[43m,\u001b[49m\u001b[43m \u001b[49m\u001b[43mattrs\u001b[49m\u001b[43m,\u001b[49m\u001b[43m \u001b[49m\u001b[43mnum_outputs\u001b[49m\u001b[43m)\u001b[49m\n\u001b[0;32m     61\u001b[0m \u001b[38;5;28;01mexcept\u001b[39;00m core\u001b[38;5;241m.\u001b[39m_NotOkStatusException \u001b[38;5;28;01mas\u001b[39;00m e:\n\u001b[0;32m     62\u001b[0m   \u001b[38;5;28;01mif\u001b[39;00m name \u001b[38;5;129;01mis\u001b[39;00m \u001b[38;5;129;01mnot\u001b[39;00m \u001b[38;5;28;01mNone\u001b[39;00m:\n",
      "\u001b[1;31mInvalidArgumentError\u001b[0m:  logits and labels must have the same first dimension, got logits shape [32,5] and labels shape [7296]\n\t [[node sparse_categorical_crossentropy/SparseSoftmaxCrossEntropyWithLogits/SparseSoftmaxCrossEntropyWithLogits (defined at \\AppData\\Local\\Temp\\ipykernel_12940\\4166743824.py:1) ]] [Op:__inference_train_function_882]\n\nFunction call stack:\ntrain_function\n"
     ]
    }
   ],
   "source": [
    "history = model.fit(X_train, y_train,\n",
    "                    batch_size=32,\n",
    "                    epochs=15,\n",
    "                    validation_data=(X_test, y_test)) #y_test"
   ]
  },
  {
   "cell_type": "code",
   "execution_count": null,
   "metadata": {
    "colab": {
     "base_uri": "https://localhost:8080/",
     "height": 51
    },
    "id": "Vf2choBvCAIA",
    "outputId": "85c5b7d9-9c70-43d6-b883-831da8350195"
   },
   "outputs": [],
   "source": [
    "loss, accuracy = model.evaluate(X_train, y_train, verbose=False)\n",
    "print(\"Training Accuracy: {:.4f}\".format(accuracy))\n",
    "loss, accuracy = model.evaluate(X_test, y_test, verbose=False)\n",
    "print(\"Testing Accuracy:  {:.4f}\".format(accuracy))"
   ]
  },
  {
   "cell_type": "code",
   "execution_count": null,
   "metadata": {
    "colab": {
     "base_uri": "https://localhost:8080/",
     "height": 541
    },
    "id": "EG835YuIB__f",
    "outputId": "636b562b-338c-4ccc-d175-d3020183af8b"
   },
   "outputs": [],
   "source": [
    "def plot_graphs(history, string):\n",
    "    plt.plot(history.history[string])\n",
    "    plt.plot(history.history['val_'+string])\n",
    "    plt.xlabel(\"Epochs\")\n",
    "    plt.ylabel(string)\n",
    "    plt.legend([string, 'val_'+string])\n",
    "    plt.show()\n",
    "\n",
    "plot_graphs(history, \"accuracy\")\n",
    "plot_graphs(history, \"loss\")"
   ]
  },
  {
   "cell_type": "markdown",
   "metadata": {
    "id": "eBlERERxQx3D"
   },
   "source": [
    " At the end of the training, we can see that there is a little bit overfitting. \n",
    " \n",
    " Now we add dropout layers as a method of regularization."
   ]
  },
  {
   "cell_type": "code",
   "execution_count": null,
   "metadata": {
    "colab": {
     "base_uri": "https://localhost:8080/",
     "height": 323
    },
    "id": "jfDsrM1uNkXF",
    "outputId": "68eb05b2-d20d-4175-be9f-dac2da555cd4"
   },
   "outputs": [],
   "source": [
    "model2 = Sequential()\n",
    "model2.add(Embedding(input_dim=vocab_size, output_dim=embedding_dim, input_length=maxlen))\n",
    "model2.add(Flatten())\n",
    "model2.add(Dense(16, activation='relu'))\n",
    "model2.add(Dropout(0.5))\n",
    "model2.add(Dense(5, activation='softmax'))\n",
    "\n",
    "model2.compile(optimizer='adam',\n",
    "              loss='categorical_crossentropy',\n",
    "              metrics=['accuracy'])\n",
    "model2.summary()"
   ]
  },
  {
   "cell_type": "code",
   "execution_count": null,
   "metadata": {
    "colab": {
     "base_uri": "https://localhost:8080/",
     "height": 527
    },
    "id": "ZTgUrOswNkK5",
    "outputId": "5312da97-a1e3-4cd0-fd16-ca596b398f8f"
   },
   "outputs": [],
   "source": [
    "history_two = model2.fit(X_train, y_train,\n",
    "                        batch_size=32,\n",
    "                        epochs=15,\n",
    "                        validation_data=(X_test, y_test))"
   ]
  },
  {
   "cell_type": "code",
   "execution_count": null,
   "metadata": {
    "colab": {
     "base_uri": "https://localhost:8080/",
     "height": 51
    },
    "id": "AZyc27y8HPFR",
    "outputId": "c26c18a9-1401-4669-d2dd-4da5cb4a0c2b"
   },
   "outputs": [],
   "source": [
    "loss, accuracy = model2.evaluate(X_train, y_train, verbose=False)\n",
    "print(\"Training Accuracy: {:.4f}\".format(accuracy))\n",
    "loss, accuracy = model2.evaluate(X_test, y_test, verbose=False)\n",
    "print(\"Testing Accuracy:  {:.4f}\".format(accuracy))"
   ]
  },
  {
   "cell_type": "code",
   "execution_count": null,
   "metadata": {
    "colab": {
     "base_uri": "https://localhost:8080/",
     "height": 548
    },
    "id": "rh4E6tJFHPDj",
    "outputId": "689efc61-27b2-42b3-f8f3-fdb19a8a8a14"
   },
   "outputs": [],
   "source": [
    "plot_graphs(history_two, \"accuracy\")\n",
    "plot_graphs(history_two, \"loss\")"
   ]
  },
  {
   "cell_type": "markdown",
   "metadata": {
    "id": "QehmKOWISfPM"
   },
   "source": [
    "Another way to work with embeddings is by using a MaxPooling1D/AveragePooling1D or a GlobalMaxPooling1D/GlobalAveragePooling1D layer after the embedding. \n",
    "\n",
    "In this case we used GlobalMaxPooling1D which is built-in layer Keras and we can add it to the sequential model:"
   ]
  },
  {
   "cell_type": "code",
   "execution_count": null,
   "metadata": {
    "colab": {
     "base_uri": "https://localhost:8080/",
     "height": 289
    },
    "id": "odWssW7shNFH",
    "outputId": "dd4de5dd-14a4-4814-ed2e-f847031c4bab"
   },
   "outputs": [],
   "source": [
    "embedding_dim = 50\n",
    "\n",
    "model3 = Sequential()\n",
    "model3.add(Embedding(input_dim=vocab_size, output_dim=embedding_dim, input_length=maxlen))\n",
    "model3.add(GlobalMaxPool1D())\n",
    "model3.add(Dense(16, activation='relu'))\n",
    "model3.add(Dense(5, activation='softmax'))\n",
    "\n",
    "model3.compile(optimizer='adam',\n",
    "               loss='categorical_crossentropy',\n",
    "               metrics=['accuracy'])\n",
    "\n",
    "model3.summary()"
   ]
  },
  {
   "cell_type": "code",
   "execution_count": null,
   "metadata": {
    "colab": {
     "base_uri": "https://localhost:8080/",
     "height": 527
    },
    "id": "4odNmbvthM6z",
    "outputId": "863c26a8-1cb5-4f17-8589-66c3062d7432"
   },
   "outputs": [],
   "source": [
    "history_3 = model3.fit(X_train, y_train,\n",
    "                       batch_size=32,\n",
    "                       epochs=15,\n",
    "                       validation_data=(X_test, y_test))"
   ]
  },
  {
   "cell_type": "code",
   "execution_count": null,
   "metadata": {
    "colab": {
     "base_uri": "https://localhost:8080/",
     "height": 51
    },
    "id": "k5rwoZO6h5UW",
    "outputId": "abeb7f17-2fec-46bb-ded1-8d7cb67dca34"
   },
   "outputs": [],
   "source": [
    "loss, accuracy = model3.evaluate(X_train, y_train, verbose=False)\n",
    "print(\"Training Accuracy: {:.4f}\".format(accuracy))\n",
    "loss, accuracy = model3.evaluate(X_test, y_test, verbose=False)\n",
    "print(\"Testing Accuracy:  {:.4f}\".format(accuracy))"
   ]
  },
  {
   "cell_type": "code",
   "execution_count": null,
   "metadata": {
    "colab": {
     "base_uri": "https://localhost:8080/",
     "height": 545
    },
    "id": "gZRVXaW1h9Jc",
    "outputId": "3ff62d04-8e44-4a08-b558-96a3318a03c6"
   },
   "outputs": [],
   "source": [
    "plot_graphs(history_3, \"accuracy\")\n",
    "plot_graphs(history_3, \"loss\")"
   ]
  },
  {
   "cell_type": "markdown",
   "metadata": {},
   "source": [
    "#### Final Neural Network model\n",
    "\n",
    "Our final Neural Network consist of an Embedding layer with GlobalMaxPool1D layer, hidden layer using the ReLU activation function. The output layer using the softmax activation function. We also used dropout layers as a method of regularization.\n",
    "We used the Adam optimizer and categorical cross entropy loss as the loss function."
   ]
  },
  {
   "cell_type": "code",
   "execution_count": null,
   "metadata": {
    "colab": {
     "base_uri": "https://localhost:8080/",
     "height": 357
    },
    "id": "6TEBDh_LSdfx",
    "outputId": "674ec372-d0fa-45c6-9c77-f30251d3c9c1"
   },
   "outputs": [],
   "source": [
    "embedding_dim = 50\n",
    "\n",
    "model4 = Sequential()\n",
    "model4.add(Embedding(input_dim=vocab_size, output_dim=embedding_dim, input_length=maxlen))\n",
    "model4.add(GlobalMaxPool1D())\n",
    "model4.add(Dropout(0.2))\n",
    "model4.add(Dense(16, activation='relu'))\n",
    "model4.add(Dropout(0.2))\n",
    "model4.add(Dense(5, activation='softmax'))\n",
    "\n",
    "model4.compile(optimizer='adam',\n",
    "               loss='categorical_crossentropy',\n",
    "               metrics=['accuracy'])\n",
    "\n",
    "model4.summary()"
   ]
  },
  {
   "cell_type": "markdown",
   "metadata": {},
   "source": [
    "We trained NN model for 15 epoch:"
   ]
  },
  {
   "cell_type": "code",
   "execution_count": null,
   "metadata": {
    "colab": {
     "base_uri": "https://localhost:8080/",
     "height": 527
    },
    "id": "J4qeOHeISdan",
    "outputId": "9bb64068-bc15-471e-9312-6b16aade7425"
   },
   "outputs": [],
   "source": [
    "history_4 = model4.fit(X_train, y_train,\n",
    "                       batch_size=32,\n",
    "                       epochs=15,\n",
    "                       validation_data=(X_test, y_test))"
   ]
  },
  {
   "cell_type": "code",
   "execution_count": null,
   "metadata": {
    "colab": {
     "base_uri": "https://localhost:8080/",
     "height": 51
    },
    "id": "tf-gE9K5qq0-",
    "outputId": "2e406001-83a5-4cdd-8cd7-c852ee3f6ef3"
   },
   "outputs": [],
   "source": [
    "loss, accuracy = model4.evaluate(X_train, y_train, verbose=False)\n",
    "print(\"Training Accuracy: {:.4f}\".format(accuracy))\n",
    "loss, accuracy = model4.evaluate(X_test, y_test, verbose=False)\n",
    "print(\"Testing Accuracy:  {:.4f}\".format(accuracy))"
   ]
  },
  {
   "cell_type": "code",
   "execution_count": null,
   "metadata": {
    "colab": {
     "base_uri": "https://localhost:8080/",
     "height": 541
    },
    "id": "skqAozltquzR",
    "outputId": "027bc033-8e61-4e2e-bd61-b6c0a7236be5"
   },
   "outputs": [],
   "source": [
    "plot_graphs(history_4, \"accuracy\")\n",
    "plot_graphs(history_4, \"loss\")"
   ]
  },
  {
   "cell_type": "markdown",
   "metadata": {
    "id": "bAT2Y3SjaCjd"
   },
   "source": [
    "**Convolutional Neural Network (CNN)**\n",
    "\n",
    "A simple CNN architecture: Embedding layer with single layer Convolutional Neural Network (with RELU activation), and the GlobalMaxPool1D layer as well. The hidden layer using the ReLU activation function and an output layer using the softmax activation function. We used the Adam optimizer and categorical cross entropy loss as the loss function."
   ]
  },
  {
   "cell_type": "code",
   "execution_count": null,
   "metadata": {
    "colab": {
     "base_uri": "https://localhost:8080/",
     "height": 323
    },
    "id": "GF0GK9lrquvH",
    "outputId": "b0c5a27b-d038-45b8-a4ef-3c7f0dd978a0"
   },
   "outputs": [],
   "source": [
    "embedding_dim = 50\n",
    "\n",
    "model5 = Sequential()\n",
    "model5.add(Embedding(input_dim=vocab_size, output_dim=embedding_dim, input_length=maxlen))\n",
    "model5.add(Conv1D(128, 5, activation='relu'))\n",
    "model5.add(GlobalMaxPool1D())\n",
    "model5.add(Dense(10, activation='relu'))\n",
    "model5.add(Dense(5, activation='softmax'))\n",
    "\n",
    "model5.compile(optimizer='adam',\n",
    "               loss='categorical_crossentropy',\n",
    "               metrics=['accuracy'])\n",
    "\n",
    "model5.summary()"
   ]
  },
  {
   "cell_type": "markdown",
   "metadata": {},
   "source": [
    "We trained CNN model for 5 epoch:"
   ]
  },
  {
   "cell_type": "code",
   "execution_count": null,
   "metadata": {
    "colab": {
     "base_uri": "https://localhost:8080/",
     "height": 187
    },
    "id": "QUCJJZbQqusm",
    "outputId": "0169a515-3afc-4ac9-b672-2f3b6cd0ce6b"
   },
   "outputs": [],
   "source": [
    "history_5 = model5.fit(X_train, y_train,\n",
    "                       batch_size=10,\n",
    "                       epochs=5,\n",
    "                       validation_data=(X_test, y_test))"
   ]
  },
  {
   "cell_type": "code",
   "execution_count": null,
   "metadata": {
    "colab": {
     "base_uri": "https://localhost:8080/",
     "height": 51
    },
    "id": "ueVfCA9mquqt",
    "outputId": "dc8cf033-7204-4040-cebf-d4cdad03dea9"
   },
   "outputs": [],
   "source": [
    "loss, accuracy = model5.evaluate(X_train, y_train, verbose=False)\n",
    "print(\"Training Accuracy: {:.4f}\".format(accuracy))\n",
    "loss, accuracy = model5.evaluate(X_test, y_test, verbose=False)\n",
    "print(\"Testing Accuracy:  {:.4f}\".format(accuracy))"
   ]
  },
  {
   "cell_type": "code",
   "execution_count": null,
   "metadata": {
    "colab": {
     "base_uri": "https://localhost:8080/",
     "height": 541
    },
    "id": "umUCVe_KaS0C",
    "outputId": "ef41571a-c42b-4a42-95d8-59f01e5bc781"
   },
   "outputs": [],
   "source": [
    "plot_graphs(history_5, \"accuracy\")\n",
    "plot_graphs(history_5, \"loss\")"
   ]
  }
 ],
 "metadata": {
  "colab": {
   "collapsed_sections": [],
   "name": "Text_nn.ipynb",
   "provenance": []
  },
  "kernelspec": {
   "display_name": "Python 3 (ipykernel)",
   "language": "python",
   "name": "python3"
  },
  "language_info": {
   "codemirror_mode": {
    "name": "ipython",
    "version": 3
   },
   "file_extension": ".py",
   "mimetype": "text/x-python",
   "name": "python",
   "nbconvert_exporter": "python",
   "pygments_lexer": "ipython3",
   "version": "3.8.13"
  }
 },
 "nbformat": 4,
 "nbformat_minor": 1
}
